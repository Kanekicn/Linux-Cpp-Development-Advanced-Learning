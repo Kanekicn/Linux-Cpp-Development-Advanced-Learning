{
 "cells": [
  {
   "cell_type": "code",
   "execution_count": null,
   "metadata": {},
   "outputs": [],
   "source": [
    "import os\n",
    "import matplotlib.pyplot as plt\n",
    "import numpy as np\n",
    "import sklearn.datasets\n",
    "import sklearn.discriminant_analysis\n",
    "import matplotlib\n",
    "%matplotlib inline\n",
    "\n",
    "\n",
    "digits = sklearn.datasets.load_digits(n_class=6)\n",
    "x = digits.data\n",
    "y = digits.target\n",
    "n_neighbors = 30\n",
    "\n",
    "def plot_embedding(x, title):\n",
    "    x_min, x_max = np.min(x, 0), np.max(x, 0)\n",
    "    x = (x - x_min) / (x_max - x_min)\n",
    "    plt.figure()\n",
    "\n",
    "    c = ['red', 'blue', 'lime', 'black', 'yellow', 'purple']\n",
    "    for l in range(6):\n",
    "        p = x[y == l]\n",
    "        plt.scatter(p[:, 0], p[:, 1], s=25, c=c[l], alpha=0.5, label=str(l))\n",
    "\n",
    "    plt.legend(loc='lower right')\n",
    "    plt.xticks([])\n",
    "    plt.yticks([])\n",
    "\n",
    "    plt.title(title)\n",
    "    plt.show()\n",
    "\n",
    "x2 = x.copy()\n",
    "x2.flat[::x.shape[1] + 1] += 0.01  # Make X invertible\n",
    "x_lda = sklearn.discriminant_analysis.LinearDiscriminantAnalysis(n_components=2).fit_transform(x2, y)\n",
    "plot_embedding(x_lda, 'Linear Discriminant projection')"
   ]
  },
  {
   "cell_type": "code",
   "execution_count": null,
   "metadata": {},
   "outputs": [],
   "source": []
  },
  {
   "cell_type": "code",
   "execution_count": null,
   "metadata": {},
   "outputs": [],
   "source": []
  }
 ],
 "metadata": {
  "kernelspec": {
   "display_name": "Python 3",
   "language": "python",
   "name": "python3"
  },
  "language_info": {
   "codemirror_mode": {
    "name": "ipython",
    "version": 3
   },
   "file_extension": ".py",
   "mimetype": "text/x-python",
   "name": "python",
   "nbconvert_exporter": "python",
   "pygments_lexer": "ipython3",
   "version": "3.5.2"
  }
 },
 "nbformat": 4,
 "nbformat_minor": 2
}
