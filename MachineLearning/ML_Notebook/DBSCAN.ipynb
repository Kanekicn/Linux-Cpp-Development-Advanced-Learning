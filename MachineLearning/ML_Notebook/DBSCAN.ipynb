{
 "cells": [
  {
   "cell_type": "code",
   "execution_count": null,
   "metadata": {},
   "outputs": [],
   "source": [
    "import numpy as np\n",
    "import matplotlib.pyplot as plt\n",
    "from sklearn.cluster import DBSCAN\n",
    "from sklearn import metrics\n",
    "from sklearn.datasets.samples_generator import make_blobs\n",
    "from sklearn.preprocessing import StandardScaler\n",
    "%matplotlib inline\n",
    "\n",
    "#生产数据\n",
    "centers = [[1,1],[-1,-1],[1,-1]]\n",
    "X,labels_true = make_blobs(n_samples=750,\n",
    "                           centers=centers,\n",
    "                           cluster_std=0.4,\n",
    "                           random_state=0)\n",
    "#对数据进行标准化\n",
    "X = StandardScaler().fit_transform(X)\n",
    " \n",
    "#计算\n",
    "db = DBSCAN(eps=0.3,min_samples=10).fit(X)\n",
    "core_samples_mask = np.zeros_like(db.labels_,dtype=bool)\n",
    "core_samples_mask[db.core_sample_indices_] = True\n",
    "labels = db.labels_\n",
    " \n",
    "n_clusters_ = len(set(labels))-(1 if -1 in labels else 0)\n",
    " \n",
    "unique_labels = set(labels)\n",
    "colors = plt.cm.Spectral(np.linspace(0,1,len(unique_labels)))\n",
    "for k,col in zip(unique_labels,colors):\n",
    "    if k == -1:\n",
    "        col = 'k'\n",
    "    class_member_mask = (labels == k)\n",
    "    xy = X[class_member_mask & core_samples_mask]\n",
    "    plt.plot(xy[:, 0], xy[:, 1], 'o', markerfacecolor=col,\n",
    "             markeredgecolor='k', markersize=14)\n",
    " \n",
    "    xy = X[class_member_mask & ~core_samples_mask]\n",
    "    plt.plot(xy[:, 0], xy[:, 1], 'o', markerfacecolor=col,\n",
    "             markeredgecolor='k', markersize=6)\n",
    " \n",
    "plt.title('Estimated number of clusters: %d' % n_clusters_)\n",
    "plt.show()"
   ]
  },
  {
   "cell_type": "code",
   "execution_count": null,
   "metadata": {},
   "outputs": [],
   "source": []
  }
 ],
 "metadata": {
  "kernelspec": {
   "display_name": "Python 3",
   "language": "python",
   "name": "python3"
  },
  "language_info": {
   "codemirror_mode": {
    "name": "ipython",
    "version": 3
   },
   "file_extension": ".py",
   "mimetype": "text/x-python",
   "name": "python",
   "nbconvert_exporter": "python",
   "pygments_lexer": "ipython3",
   "version": "3.5.2"
  }
 },
 "nbformat": 4,
 "nbformat_minor": 2
}
