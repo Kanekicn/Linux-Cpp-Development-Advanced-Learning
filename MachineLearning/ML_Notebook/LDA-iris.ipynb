{
 "cells": [
  {
   "cell_type": "code",
   "execution_count": null,
   "metadata": {},
   "outputs": [],
   "source": [
    "import matplotlib.pyplot as plt\n",
    "from sklearn import datasets\n",
    "from sklearn.discriminant_analysis import LinearDiscriminantAnalysis\n",
    "import matplotlib\n",
    "%matplotlib inline\n",
    "\n",
    "# 载入iris数据集\n",
    "iris = datasets.load_iris()\n",
    "# 特征向量为4维的\n",
    "X = iris.data\n",
    "# 标签值用于将样本显示成不同的颜色\n",
    "y = iris.target\n",
    "target_names = iris.target_names\n",
    "\n",
    "# 创建LDA降维模型，并计算投影矩阵，对X执行降维操作，得到降维后的结果X_r\n",
    "lda = LinearDiscriminantAnalysis(n_components = 2)\n",
    "X_r = lda.fit(X, y).transform(X)\n",
    "\n",
    "colors = ['navy', 'turquoise', 'darkorange']\n",
    "\n",
    "plt.figure()\n",
    "# 显示降维后的样本\n",
    "for color, i, target_name in zip(colors, [0, 1, 2], target_names):\n",
    "    plt.scatter(X_r[y == i, 0], X_r[y == i, 1], alpha=.8, color=color,\n",
    "                label=target_name)\n",
    "plt.legend(loc='best', shadow=False, scatterpoints=1)\n",
    "plt.title('LDA of IRIS dataset')\n",
    "plt.show()"
   ]
  },
  {
   "cell_type": "code",
   "execution_count": null,
   "metadata": {},
   "outputs": [],
   "source": []
  }
 ],
 "metadata": {
  "kernelspec": {
   "display_name": "Python 3",
   "language": "python",
   "name": "python3"
  },
  "language_info": {
   "codemirror_mode": {
    "name": "ipython",
    "version": 3
   },
   "file_extension": ".py",
   "mimetype": "text/x-python",
   "name": "python",
   "nbconvert_exporter": "python",
   "pygments_lexer": "ipython3",
   "version": "3.5.2"
  }
 },
 "nbformat": 4,
 "nbformat_minor": 2
}
