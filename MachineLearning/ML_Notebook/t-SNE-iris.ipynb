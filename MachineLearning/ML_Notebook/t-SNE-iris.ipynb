{
 "cells": [
  {
   "cell_type": "code",
   "execution_count": null,
   "metadata": {},
   "outputs": [],
   "source": [
    "from sklearn.manifold import TSNE\n",
    "from sklearn.datasets import load_iris, load_digits\n",
    "import matplotlib.pyplot as plt\n",
    "import os\n",
    "%matplotlib inline\n",
    "\n",
    "# 载入iris数据集\n",
    "digits = load_digits()\n",
    "\n",
    "# t_SNE降维\n",
    "X_t_SNE = TSNE(n_components = 2, random_state = 32).fit_transform(digits.data)\n",
    "\n",
    "plt.figure(figsize = (10, 5))\n",
    "plt.subplot(121)\n",
    "# 绘制降维后的样本点，按照样本的类型显示成不同的颜色\n",
    "plt.scatter(X_t_SNE[:, 0], X_t_SNE[:, 1], c = digits.target,label = \"t-SNE\")\n",
    "plt.legend()\n",
    "plt.show()"
   ]
  },
  {
   "cell_type": "code",
   "execution_count": null,
   "metadata": {},
   "outputs": [],
   "source": []
  }
 ],
 "metadata": {
  "kernelspec": {
   "display_name": "Python 3",
   "language": "python",
   "name": "python3"
  },
  "language_info": {
   "codemirror_mode": {
    "name": "ipython",
    "version": 3
   },
   "file_extension": ".py",
   "mimetype": "text/x-python",
   "name": "python",
   "nbconvert_exporter": "python",
   "pygments_lexer": "ipython3",
   "version": "3.5.2"
  }
 },
 "nbformat": 4,
 "nbformat_minor": 2
}
