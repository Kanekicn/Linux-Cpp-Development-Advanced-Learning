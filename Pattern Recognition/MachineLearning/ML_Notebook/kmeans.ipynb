{
 "cells": [
  {
   "cell_type": "code",
   "execution_count": null,
   "metadata": {},
   "outputs": [],
   "source": [
    "import numpy as np\n",
    "import matplotlib.pyplot as plt\n",
    "from sklearn.cluster import KMeans\n",
    "from sklearn.metrics.pairwise import pairwise_distances_argmin\n",
    "from sklearn.datasets.samples_generator import make_blobs\n",
    "%matplotlib inline\n",
    "\n",
    "np.random.seed(0)\n",
    "# 三个簇的中心\n",
    "centers = [[1, 1], [-1, -1], [1, -1]]  \n",
    "n_clusters = len(centers)\n",
    "# 生成随机样本\n",
    "X, labels_true = make_blobs(n_samples = 3000, centers = centers, cluster_std=0.6)  \n",
    "\n",
    "# k均值聚类\n",
    "k_means = KMeans(init='k-means++', n_clusters = 3, n_init = 10)\n",
    "k_means.fit(X) \n",
    "\n",
    "fig = plt.figure(figsize=(16, 6))\n",
    "colors = ['#FF0000', '#00FF00', '#0000FF']\n",
    "\n",
    "k_means_cluster_centers = np.sort(k_means.cluster_centers_, axis=0) \n",
    "# 计算样本所属的簇\n",
    "k_means_labels = pairwise_distances_argmin(X, k_means_cluster_centers) \n",
    "\n",
    "ax = fig.add_subplot(1, 3, 1)\n",
    "for k, col in zip(range(n_clusters), colors):\n",
    "    # 获取第k个簇的样本\n",
    "    my_members = k_means_labels == k  \n",
    "    # 获取第k个簇的中心\n",
    "    cluster_center = k_means_cluster_centers[k]  \n",
    "    # 绘制簇的样本\n",
    "    ax.plot(X[my_members, 0], X[my_members, 1], 'w',markerfacecolor=col, marker='.') \n",
    "    # 绘制簇中心\n",
    "    ax.plot(cluster_center[0], cluster_center[1], 'o', markerfacecolor=col,markeredgecolor='k', markersize=6) \n",
    "ax.set_title('KMeansClustering')\n",
    "ax.set_xticks(())\n",
    "ax.set_yticks(())\n",
    "plt.show()"
   ]
  },
  {
   "cell_type": "code",
   "execution_count": null,
   "metadata": {},
   "outputs": [],
   "source": []
  }
 ],
 "metadata": {
  "kernelspec": {
   "display_name": "Python 3",
   "language": "python",
   "name": "python3"
  },
  "language_info": {
   "codemirror_mode": {
    "name": "ipython",
    "version": 3
   },
   "file_extension": ".py",
   "mimetype": "text/x-python",
   "name": "python",
   "nbconvert_exporter": "python",
   "pygments_lexer": "ipython3",
   "version": "3.5.2"
  }
 },
 "nbformat": 4,
 "nbformat_minor": 2
}
