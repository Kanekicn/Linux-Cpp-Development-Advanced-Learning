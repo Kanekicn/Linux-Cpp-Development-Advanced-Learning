{
 "cells": [
  {
   "cell_type": "code",
   "execution_count": null,
   "metadata": {},
   "outputs": [],
   "source": [
    "import matplotlib\n",
    "import numpy as np\n",
    "import matplotlib.pyplot as plt\n",
    "from sklearn import datasets\n",
    "from sklearn.ensemble import RandomForestClassifier\n",
    "%matplotlib inline\n",
    "\n",
    "# 生成所有测试样本点\n",
    "def make_meshgrid(x, y, h = .02):\n",
    "    x_min, x_max = x.min() - 1, x.max() + 1\n",
    "    y_min, y_max = y.min() - 1, y.max() + 1\n",
    "    xx, yy = np.meshgrid(np.arange(x_min, x_max, h),\n",
    "                         np.arange(y_min, y_max, h))\n",
    "    return xx, yy\n",
    "\n",
    "#对测试集进行预测，并显示结果\n",
    "def plot_test_results(ax, rf, xx, yy, **params):\n",
    "    Z = rf.predict(np.c_[xx.ravel(), yy.ravel()])\n",
    "    Z = Z.reshape(xx.shape)\n",
    "    ax.contourf(xx, yy, Z, **params)\n",
    "\n",
    "#载入iris数据集\n",
    "iris = datasets.load_iris()\n",
    "#只使用前面两个特征向量\n",
    "X = iris.data[:, :2]\n",
    "#样本标签值\n",
    "y = iris.target\n",
    "#生成随机森林分类器，决策树最大深度为3，决策树数量为5\n",
    "#决策树分裂时使用的特征数为1\n",
    "rf = RandomForestClassifier(max_depth = 4, n_estimators = 5, max_features = 1)\n",
    "#训练随机森林\n",
    "rf.fit(X,y)\n",
    "title = ('RandomForestClassifier')\n",
    "# 设置绘图窗口\n",
    "fig, ax = plt.subplots(figsize = (5, 5))\n",
    "plt.subplots_adjust(wspace = 1, hspace = 1)\n",
    "#前两个特征\n",
    "X0, X1 = X[:, 0], X[:, 1]\n",
    "#生成测试样本数据\n",
    "xx, yy = make_meshgrid(X0, X1)\n",
    "#对测试样本进行预测\n",
    "plot_test_results(ax, rf, xx, yy, cmap = plt.cm.coolwarm, alpha = 0.8)\n",
    "#显示训练样本\n",
    "ax.scatter(X0, X1, c = y, cmap = plt.cm.coolwarm, s = 20, edgecolors = 'k')\n",
    "ax.set_xlim(xx.min(), xx.max())\n",
    "ax.set_ylim(yy.min(), yy.max())\n",
    "ax.set_xlabel('x1')\n",
    "ax.set_ylabel('x2')\n",
    "ax.set_xticks(())\n",
    "ax.set_yticks(())\n",
    "ax.set_title(title)\n",
    "plt.show()"
   ]
  },
  {
   "cell_type": "code",
   "execution_count": null,
   "metadata": {},
   "outputs": [],
   "source": []
  }
 ],
 "metadata": {
  "kernelspec": {
   "display_name": "Python 3",
   "language": "python",
   "name": "python3"
  },
  "language_info": {
   "codemirror_mode": {
    "name": "ipython",
    "version": 3
   },
   "file_extension": ".py",
   "mimetype": "text/x-python",
   "name": "python",
   "nbconvert_exporter": "python",
   "pygments_lexer": "ipython3",
   "version": "3.5.2"
  }
 },
 "nbformat": 4,
 "nbformat_minor": 2
}
