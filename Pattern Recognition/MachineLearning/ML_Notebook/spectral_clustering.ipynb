{
 "cells": [
  {
   "cell_type": "code",
   "execution_count": null,
   "metadata": {},
   "outputs": [],
   "source": [
    "from sklearn.cluster import spectral_clustering\n",
    "from sklearn import metrics \n",
    "from sklearn.datasets.samples_generator import make_blobs \n",
    "import numpy as np\n",
    "import matplotlib.pyplot as plt \n",
    "from itertools import cycle\n",
    "import matplotlib\n",
    "%matplotlib inline\n",
    "\n",
    "centers = np.array([[1, 1], [-1, -1], [1, -1]])\n",
    "X, labels_true = make_blobs(n_samples = 3000, centers = centers, cluster_std = 0.5, random_state = 0)\n",
    "\n",
    "metrics_metrix = (-1 * metrics.pairwise.pairwise_distances(X)).astype(np.int32)\n",
    "metrics_metrix += -1 * metrics_metrix.min()\n",
    "\n",
    "labels = spectral_clustering(metrics_metrix, n_clusters = 3)\n",
    "\n",
    "n_clusters_ = 3\n",
    "\n",
    "plt.close('all')\n",
    "plt.figure(1)\n",
    "plt.clf()\n",
    "\n",
    "colors = cycle('bgrcmyk')\n",
    "for k, col in zip(range(n_clusters_), colors):\n",
    " class_members = labels == k\n",
    " plt.plot(X[class_members, 0], X[class_members, 1], col + '.')\n",
    "\n",
    "plt.title('Number of clusters: %d' % n_clusters_)\n",
    "plt.show()"
   ]
  },
  {
   "cell_type": "code",
   "execution_count": null,
   "metadata": {},
   "outputs": [],
   "source": []
  }
 ],
 "metadata": {
  "kernelspec": {
   "display_name": "Python 3",
   "language": "python",
   "name": "python3"
  },
  "language_info": {
   "codemirror_mode": {
    "name": "ipython",
    "version": 3
   },
   "file_extension": ".py",
   "mimetype": "text/x-python",
   "name": "python",
   "nbconvert_exporter": "python",
   "pygments_lexer": "ipython3",
   "version": "3.5.2"
  }
 },
 "nbformat": 4,
 "nbformat_minor": 2
}
